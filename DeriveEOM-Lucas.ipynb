{
 "cells": [
  {
   "cell_type": "markdown",
   "id": "occasional-george",
   "metadata": {},
   "source": [
    "# Equations of motion for control moment gyroscope"
   ]
  },
  {
   "cell_type": "code",
   "execution_count": 1,
   "id": "sitting-discount",
   "metadata": {},
   "outputs": [],
   "source": [
    "import sympy as sym\n",
    "import numpy as np"
   ]
  },
  {
   "cell_type": "markdown",
   "id": "delayed-central",
   "metadata": {},
   "source": [
    "The `sympy.physics.mechanics` module makes it easier to work with (and display) time derivatives."
   ]
  },
  {
   "cell_type": "code",
   "execution_count": 2,
   "id": "dressed-frank",
   "metadata": {},
   "outputs": [],
   "source": [
    "from sympy.physics import mechanics\n",
    "mechanics.init_vprinting()"
   ]
  },
  {
   "cell_type": "markdown",
   "id": "greater-weekend",
   "metadata": {},
   "source": [
    "Define parameters in symbolic form."
   ]
  },
  {
   "cell_type": "code",
   "execution_count": 3,
   "id": "aa1f1399",
   "metadata": {},
   "outputs": [],
   "source": [
    "# Principal moments of inertia\n",
    "J_1x, J_1y, J_1z = sym.symbols('J_1x, J_1y, J_1z')\n",
    "J_2x, J_2y, J_2z = sym.symbols('J_2x, J_2y, J_2z')\n",
    "J_3x, J_3y, J_3z = sym.symbols('J_3x, J_3y, J_3z')\n",
    "\n",
    "# Moment of inertia matrices in body-fixed reference frames\n",
    "J1 = sym.Matrix.diag(J_1x, J_1y, J_1z)\n",
    "J2 = sym.Matrix.diag(J_2x, J_2y, J_2z)\n",
    "J3 = sym.Matrix.diag(J_3x, J_3y, J_3z)\n",
    "\n",
    "# Spar length\n",
    "r = sym.symbols('r')\n",
    "\n",
    "# Load mass\n",
    "m = sym.symbols('m')\n",
    "\n",
    "# Acceleration of gravity\n",
    "g = sym.symbols('g')"
   ]
  },
  {
   "cell_type": "markdown",
   "id": "mental-mileage",
   "metadata": {},
   "source": [
    "Define variables."
   ]
  },
  {
   "cell_type": "code",
   "execution_count": 4,
   "id": "ordered-extra",
   "metadata": {},
   "outputs": [],
   "source": [
    "# Time\n",
    "t = sym.Symbol('t')\n",
    "\n",
    "# Joint angles:\n",
    "q1, q2, q3 = mechanics.dynamicsymbols('q1, q2, q3')\n",
    "\n",
    "# Joint velocities\n",
    "v1 = q1.diff(t)\n",
    "v2 = q2.diff(t)\n",
    "v3 = q3.diff(t)\n",
    "\n",
    "# Joint accelerations\n",
    "a1 = v1.diff(t)\n",
    "a2 = v2.diff(t)\n",
    "a3 = v3.diff(t)\n",
    "\n",
    "# Torques:\n",
    "tau2, tau3 = sym.symbols('tau2, tau3')"
   ]
  },
  {
   "cell_type": "markdown",
   "id": "distant-roman",
   "metadata": {},
   "source": [
    "Compute angular velocity of each link with respect to body-fixed reference frames (the choice of frame is very important - using a space-fixed reference frame is a common mistake)."
   ]
  },
  {
   "cell_type": "code",
   "execution_count": 23,
   "id": "rental-adapter",
   "metadata": {},
   "outputs": [
    {
     "name": "stdout",
     "output_type": "stream",
     "text": [
      "Matrix([[Derivative(q2(t), t)], [sin(q2(t))*Derivative(q1(t), t) - Derivative(q3(t), t)], [cos(q2(t))*Derivative(q1(t), t)]])\n"
     ]
    }
   ],
   "source": [
    "c1 = sym.cos(q1)\n",
    "s1 = sym.sin(q1)\n",
    "R_p_in_w = sym.Matrix([[c1, -s1, 0], [s1, c1, 0], [0, 0, 1]])\n",
    "\n",
    "c2 = sym.cos(q2)\n",
    "s2 = sym.sin(q2)\n",
    "R_g_in_p = sym.Matrix([[1, 0, 0], [0, c2, -s2], [0, s2, c2]])\n",
    "\n",
    "w1 = sym.Matrix([[0], [0], [v1]])\n",
    "w2 = R_p_in_w.T * w1 + sym.Matrix([[v2], [0], [0]])\n",
    "w3 = R_g_in_p.T * w2 + sym.Matrix([[0], [-v3], [0]])\n",
    "\n",
    "# Show result\n",
    "print(w3)\n"
   ]
  },
  {
   "cell_type": "markdown",
   "id": "eff8de8e",
   "metadata": {},
   "source": [
    "Compute position and velocity of load mass."
   ]
  },
  {
   "cell_type": "code",
   "execution_count": 13,
   "id": "aaac2a0f",
   "metadata": {},
   "outputs": [
    {
     "data": {
      "image/png": "[encoded data removed]",
      "text/latex": [
       "$\\displaystyle \\left( \\left[\\begin{matrix}- r \\cos{\\left(q_{1} \\right)}\\\\- r \\sin{\\left(q_{1} \\right)}\\\\0\\end{matrix}\\right], \\  \\left[\\begin{matrix}r \\sin{\\left(q_{1} \\right)} \\dot{q}_{1}\\\\- r \\cos{\\left(q_{1} \\right)} \\dot{q}_{1}\\\\0\\end{matrix}\\right]\\right)$"
      ],
      "text/plain": [
       "⎛⎡-r⋅cos(q₁)⎤  ⎡r⋅sin(q₁)⋅q₁̇ ⎤⎞\n",
       "⎜⎢          ⎥  ⎢             ⎥⎟\n",
       "⎜⎢-r⋅sin(q₁)⎥, ⎢-r⋅cos(q₁)⋅q₁̇⎥⎟\n",
       "⎜⎢          ⎥  ⎢             ⎥⎟\n",
       "⎝⎣    0     ⎦  ⎣      0      ⎦⎠"
      ]
     },
     "execution_count": 13,
     "metadata": {},
     "output_type": "execute_result"
    }
   ],
   "source": [
    "p = R_p_in_w * sym.Matrix([-r, 0, 0])\n",
    "v = p.diff(t)\n",
    "\n",
    "# Show result\n",
    "p, v"
   ]
  },
  {
   "cell_type": "markdown",
   "id": "antique-climb",
   "metadata": {},
   "source": [
    "Compute Lagrangian."
   ]
  },
  {
   "cell_type": "code",
   "execution_count": 15,
   "id": "tutorial-cleaning",
   "metadata": {},
   "outputs": [
    {
     "data": {
      "image/png": "[encoded data removed]",
      "text/latex": [
       "$\\displaystyle \\left[\\begin{matrix}\\frac{J_{1z} \\dot{q}_{1}^{2}}{2} + \\frac{J_{2x} \\dot{q}_{2}^{2}}{2} + \\frac{J_{2z} \\dot{q}_{1}^{2}}{2} + \\frac{J_{3x} \\dot{q}_{2}^{2}}{2} + \\frac{J_{3y} \\sin^{2}{\\left(q_{2} \\right)} \\dot{q}_{1}^{2}}{2} - J_{3y} \\sin{\\left(q_{2} \\right)} \\dot{q}_{1} \\dot{q}_{3} + \\frac{J_{3y} \\dot{q}_{3}^{2}}{2} - \\frac{J_{3z} \\sin^{2}{\\left(q_{2} \\right)} \\dot{q}_{1}^{2}}{2} + \\frac{J_{3z} \\dot{q}_{1}^{2}}{2} + g m r \\cos{\\left(q_{1} \\right)} + \\frac{m r^{2} \\dot{q}_{1}^{2}}{2}\\end{matrix}\\right]$"
      ],
      "text/plain": [
       "⎡       2         2          2         2           2       2                  \n",
       "⎢J_1z⋅q₁̇    J₂ₓ⋅q₂̇    J_2z⋅q₁̇    J₃ₓ⋅q₂̇    J_3y⋅sin (q₂)⋅q₁̇              \n",
       "⎢──────── + ─────── + ──────── + ─────── + ───────────────── - J_3y⋅sin(q₂)⋅q₁\n",
       "⎣   2          2         2          2              2                          \n",
       "\n",
       "             2           2       2          2                      2   2⎤\n",
       "           J_3y⋅q₃̇    J_3z⋅sin (q₂)⋅q₁̇    J_3z⋅q₁̇                    m⋅r ⋅q\n",
       "̇⋅q₃̇ + ──────── - ───────────────── + ──────── + g⋅m⋅r⋅cos(q₁) + ────────⎥\n",
       "         2               2              2                          2    ⎦"
      ]
     },
     "execution_count": 15,
     "metadata": {},
     "output_type": "execute_result"
    }
   ],
   "source": [
    "T = ((w1.T * J1 * w1) + (w2.T * J2 * w2) + (w3.T * J3 * w3) + (v.T * m * v)) / 2\n",
    "V = m * g * (sym.Matrix([1, 0, 0]).T * p)\n",
    "L = sym.simplify(T - V)\n",
    "\n",
    "# Show result\n",
    "L"
   ]
  },
  {
   "cell_type": "markdown",
   "id": "distinguished-poultry",
   "metadata": {},
   "source": [
    "Compute equations of motion."
   ]
  },
  {
   "cell_type": "code",
   "execution_count": 16,
   "id": "crude-acquisition",
   "metadata": {},
   "outputs": [],
   "source": [
    "EOM = L.jacobian([v1, v2, v3]).diff(t) - L.jacobian([q1, q2, q3]) - sym.Matrix([0, tau2, tau3]).T"
   ]
  },
  {
   "cell_type": "markdown",
   "id": "meaning-disposal",
   "metadata": {},
   "source": [
    "Simplify equations of motion by solving for accelerations."
   ]
  },
  {
   "cell_type": "code",
   "execution_count": 17,
   "id": "usual-oliver",
   "metadata": {},
   "outputs": [],
   "source": [
    "sol = sym.solve(EOM, [a1, a2, a3])\n",
    "h = sym.together(sym.simplify(sym.Matrix([sol[a1], sol[a2], sol[a3]]), full=True))"
   ]
  },
  {
   "cell_type": "markdown",
   "id": "46fcb948",
   "metadata": {},
   "source": [
    "Assume $\\tau_3=0$ and look only at the equations of motion that govern the platform and the gimbal:"
   ]
  },
  {
   "cell_type": "code",
   "execution_count": 18,
   "id": "4adb0509",
   "metadata": {},
   "outputs": [],
   "source": [
    "h = h[0:2, 0].subs(tau3, 0)"
   ]
  },
  {
   "cell_type": "markdown",
   "id": "bc4b6686",
   "metadata": {},
   "source": [
    "Display the vector-valued function $h$ for which the equations of motion can be written as\n",
    "\n",
    "$$\\begin{bmatrix} \\ddot{q}_1 \\\\ \\ddot{q}_2 \\end{bmatrix} = h(q_1, q_2, \\dot{q}_1, \\dot{q}_2, \\tau_2)$$\n",
    "\n",
    "where everything else (mass and inertial parameters, spar length, acceleration of gravity, and rotor velocity $\\dot{q}_3$) is assumed constant."
   ]
  },
  {
   "cell_type": "code",
   "execution_count": 21,
   "id": "3b479b59",
   "metadata": {},
   "outputs": [
    {
     "data": {
      "image/png": "[encoded data removed]",
      "text/latex": [
       "$\\displaystyle \\left[\\begin{matrix}\\frac{- J_{3y} \\sin{\\left(2 q_{2} \\right)} \\dot{q}_{1} \\dot{q}_{2} + 2 J_{3y} \\cos{\\left(q_{2} \\right)} \\dot{q}_{2} \\dot{q}_{3} + 2 J_{3z} \\sin{\\left(2 q_{2} \\right)} \\dot{q}_{1} \\dot{q}_{2} - 2 g m r \\sin{\\left(q_{1} \\right)}}{2 \\left(J_{1z} + J_{2z} + J_{3z} \\cos^{2}{\\left(q_{2} \\right)} + m r^{2}\\right)}\\\\\\frac{J_{3y} \\sin{\\left(2 q_{2} \\right)} \\dot{q}_{1}^{2} - 2 J_{3y} \\cos{\\left(q_{2} \\right)} \\dot{q}_{1} \\dot{q}_{3} - J_{3z} \\sin{\\left(2 q_{2} \\right)} \\dot{q}_{1}^{2} + 2 \\tau_{2}}{2 \\left(J_{2x} + J_{3x}\\right)}\\end{matrix}\\right]$"
      ],
      "text/plain": [
       "⎡-J_3y⋅sin(2⋅q₂)⋅q₁̇⋅q₂̇ + 2⋅J_3y⋅cos(q₂)⋅q₂̇⋅q₃̇ + 2⋅J_3z⋅sin(2⋅q₂)⋅q₁̇⋅q₂̇ -\n",
       "⎢─────────────────────────────────────────────────────────────────────────────\n",
       "⎢                           ⎛                      2          2⎞              \n",
       "⎢                         2⋅⎝J_1z + J_2z + J_3z⋅cos (q₂) + m⋅r ⎠              \n",
       "⎢                                                                             \n",
       "⎢                          2                                           2      \n",
       "⎢         J_3y⋅sin(2⋅q₂)⋅q₁̇  - 2⋅J_3y⋅cos(q₂)⋅q₁̇⋅q₃̇ - J_3z⋅sin(2⋅q₂)⋅q₁̇  +\n",
       "⎢         ────────────────────────────────────────────────────────────────────\n",
       "⎣                                     2⋅(J₂ₓ + J₃ₓ)                           \n",
       "\n",
       " 2⋅g⋅m⋅r⋅sin(q₁)⎤\n",
       "──────────⎥\n",
       "          ⎥\n",
       "          ⎥\n",
       "          ⎥\n",
       "          ⎥\n",
       " 2⋅τ₂         ⎥\n",
       "─         ⎥\n",
       "          ⎦"
      ]
     },
     "execution_count": 21,
     "metadata": {},
     "output_type": "execute_result"
    }
   ],
   "source": [
    "h"
   ]
  },
  {
   "cell_type": "markdown",
   "id": "collected-zoning",
   "metadata": {},
   "source": [
    "Display $h$ as latex-formatted text that could be copy/pasted into a $\\LaTeX$ document (or into markdown)."
   ]
  },
  {
   "cell_type": "code",
   "execution_count": 20,
   "id": "electoral-hotel",
   "metadata": {},
   "outputs": [
    {
     "name": "stdout",
     "output_type": "stream",
     "text": [
      "\\left[\\begin{matrix}\\frac{- J_{3y} \\sin{\\left(2 q_{2} \\right)} \\dot{q}_{1} \\dot{q}_{2} + 2 J_{3y} \\cos{\\left(q_{2} \\right)} \\dot{q}_{2} \\dot{q}_{3} + 2 J_{3z} \\sin{\\left(2 q_{2} \\right)} \\dot{q}_{1} \\dot{q}_{2} - 2 g m r \\sin{\\left(q_{1} \\right)}}{2 \\left(J_{1z} + J_{2z} + J_{3z} \\cos^{2}{\\left(q_{2} \\right)} + m r^{2}\\right)}\\\\\\frac{J_{3y} \\sin{\\left(2 q_{2} \\right)} \\dot{q}_{1}^{2} - 2 J_{3y} \\cos{\\left(q_{2} \\right)} \\dot{q}_{1} \\dot{q}_{3} - J_{3z} \\sin{\\left(2 q_{2} \\right)} \\dot{q}_{1}^{2} + 2 \\tau_{2}}{2 \\left(J_{2x} + J_{3x}\\right)}\\end{matrix}\\right]\n"
     ]
    }
   ],
   "source": [
    "print(f'{mechanics.mlatex(h)}')"
   ]
  },
  {
   "cell_type": "code",
   "execution_count": 32,
   "id": "d4a4ad55",
   "metadata": {},
   "outputs": [
    {
     "data": {
      "image/png": "[encoded data removed]",
      "text/latex": [
       "$\\displaystyle \\left( \\left[\\begin{matrix}0 & 0 & 1 & 0\\\\0 & 0 & 0 & 1\\\\- \\frac{39.24 \\cos{\\left(q_{1} \\right)}}{0.02 \\cos^{2}{\\left(q_{2} \\right)} + 9.002} & \\frac{0.02 v_{1} v_{2} \\cos{\\left(2 q_{2} \\right)} - 10.0 v_{2} \\sin{\\left(q_{2} \\right)}}{0.02 \\cos^{2}{\\left(q_{2} \\right)} + 9.002} + \\frac{0.000493607754893738 \\cdot \\left(0.01 v_{1} v_{2} \\sin{\\left(2 q_{2} \\right)} + 10.0 v_{2} \\cos{\\left(q_{2} \\right)} - 39.24 \\sin{\\left(q_{1} \\right)}\\right) \\sin{\\left(q_{2} \\right)} \\cos{\\left(q_{2} \\right)}}{\\left(0.00222172850477672 \\cos^{2}{\\left(q_{2} \\right)} + 1\\right)^{2}} & \\frac{0.01 v_{2} \\sin{\\left(2 q_{2} \\right)}}{0.02 \\cos^{2}{\\left(q_{2} \\right)} + 9.002} & \\frac{0.01 v_{1} \\sin{\\left(2 q_{2} \\right)} + 10.0 \\cos{\\left(q_{2} \\right)}}{0.02 \\cos^{2}{\\left(q_{2} \\right)} + 9.002}\\\\0 & 454.545454545455 v_{1} \\sin{\\left(q_{2} \\right)} & - 454.545454545455 \\cos{\\left(q_{2} \\right)} & 0\\end{matrix}\\right], \\  \\left[\\begin{matrix}0\\\\0\\\\0\\\\90.9090909090909\\end{matrix}\\right]\\right)$"
      ],
      "text/plain": [
       "⎛⎡          0                                                                 \n",
       "⎜⎢                                                                            \n",
       "⎜⎢          0                                                                 \n",
       "⎜⎢                                                                            \n",
       "⎜⎢   -39.24⋅cos(q₁)      0.02⋅v₁⋅v₂⋅cos(2⋅q₂) - 10.0⋅v₂⋅sin(q₂)   0.0004936077\n",
       "⎜⎢─────────────────────  ────────────────────────────────────── + ────────────\n",
       "⎜⎢        2                              2                                    \n",
       "⎜⎢0.02⋅cos (q₂) + 9.002          0.02⋅cos (q₂) + 9.002                        \n",
       "⎜⎢                                                                            \n",
       "⎜⎢                                                                            \n",
       "⎝⎣          0                                                                 \n",
       "\n",
       "             0                                                                \n",
       "                                                                              \n",
       "             0                                                                \n",
       "                                                                              \n",
       "54893738⋅(0.01⋅v₁⋅v₂⋅sin(2⋅q₂) + 10.0⋅v₂⋅cos(q₂) - 39.24⋅sin(q₁))⋅sin(q₂)⋅cos(\n",
       "──────────────────────────────────────────────────────────────────────────────\n",
       "                                                   2                          \n",
       "                 ⎛                       2        ⎞                           \n",
       "                 ⎝0.00222172850477672⋅cos (q₂) + 1⎠                           \n",
       "                                                                              \n",
       "454.545454545455⋅v₁⋅sin(q₂)                                                   \n",
       "\n",
       "                 1                             0                ⎤             \n",
       "                                                                ⎥             \n",
       "                 0                             1                ⎥  ⎡       0  \n",
       "                                                                ⎥  ⎢          \n",
       "q₂)      0.01⋅v₂⋅sin(2⋅q₂)      0.01⋅v₁⋅sin(2⋅q₂) + 10.0⋅cos(q₂)⎥  ⎢       0  \n",
       "───    ─────────────────────    ────────────────────────────────⎥, ⎢          \n",
       "               2                             2                  ⎥  ⎢       0  \n",
       "       0.02⋅cos (q₂) + 9.002         0.02⋅cos (q₂) + 9.002      ⎥  ⎢          \n",
       "                                                                ⎥  ⎣90.9090909\n",
       "                                                                ⎥             \n",
       "     -454.545454545455⋅cos(q₂)                 0                ⎦             \n",
       "\n",
       "       ⎞\n",
       "       ⎟\n",
       "      ⎤⎟\n",
       "      ⎥⎟\n",
       "      ⎥⎟\n",
       "      ⎥⎟\n",
       "      ⎥⎟\n",
       "      ⎥⎟\n",
       "090909⎦⎟\n",
       "       ⎟\n",
       "       ⎠"
      ]
     },
     "execution_count": 32,
     "metadata": {},
     "output_type": "execute_result"
    }
   ],
   "source": [
    "q1, q2, v1, v2, T = mechanics.dynamicsymbols('q1, q2, v1, v2, T')\n",
    "V, J_1z, J_2x, J_2z, J_3x, J_3y, J_3z, m, r, g = 500, .5, .001, .001, .01, .01, .01, 1, 2, 9.81\n",
    "a1 = -J_3y + 2*J_3z\n",
    "a2 = 2*J_3y\n",
    "a3 = -2*g*m*r\n",
    "a4 = 2*J_1z + 2*J_2z + 2*m*r*r\n",
    "a5 = 2*J_3z\n",
    "a6 = (J_3y - J_3z)/(2*(J_2x + J_3x))\n",
    "a7 = -1*J_3y / (J_2x + J_3x)\n",
    "a8 = 1/(J_2x + J_3x)\n",
    "\n",
    "m = sym.Matrix([q1, q2, v1 ,v2])\n",
    "n = sym.Matrix([T])\n",
    "m_dot = sym.Matrix([\n",
    "    v1, \n",
    "    v2,\n",
    "    (a1*sym.sin(2*q2)*v1*v2 + a2*sym.cos(q2)*v2*V + a3*sym.sin(q1))/(a4 + a5*sym.cos(q2)*sym.cos(q2)),\n",
    "    a6*sym.sin(2*q2)*v1*v1 + a7*sym.cos(q2)*v1*V + a8*T\n",
    "])\n",
    "\n",
    "A_raw = m_dot.jacobian(m) #raw meaning that the equilibrium points have not been subbed in\n",
    "B_raw = m_dot.jacobian(n)\n"
   ]
  },
  {
   "cell_type": "code",
   "execution_count": null,
   "id": "26d27a7a",
   "metadata": {},
   "outputs": [],
   "source": []
  }
 ],
 "metadata": {
  "kernelspec": {
   "display_name": "Python 3 (ipykernel)",
   "language": "python",
   "name": "python3"
  },
  "language_info": {
   "codemirror_mode": {
    "name": "ipython",
    "version": 3
   },
   "file_extension": ".py",
   "mimetype": "text/x-python",
   "name": "python",
   "nbconvert_exporter": "python",
   "pygments_lexer": "ipython3",
   "version": "3.11.0"
  }
 },
 "nbformat": 4,
 "nbformat_minor": 5
}
